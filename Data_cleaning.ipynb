{
 "cells": [
  {
   "cell_type": "code",
   "execution_count": 2,
   "id": "8aa9da2e",
   "metadata": {},
   "outputs": [],
   "source": [
    "import pandas as pd\n"
   ]
  },
  {
   "cell_type": "code",
   "execution_count": 186,
   "id": "576bf7c7",
   "metadata": {},
   "outputs": [],
   "source": [
    "df = pd.read_csv(\"us_salary_summary.csv\")\n"
   ]
  },
  {
   "cell_type": "code",
   "execution_count": 187,
   "id": "9d7d0779",
   "metadata": {},
   "outputs": [],
   "source": [
    "df\n",
    "df = df.drop(columns='Count')\n"
   ]
  },
  {
   "cell_type": "code",
   "execution_count": 5,
   "id": "73ad0942",
   "metadata": {},
   "outputs": [],
   "source": [
    "#salary parsing \n",
    "#title parsing\n",
    "#education parsing "
   ]
  },
  {
   "cell_type": "code",
   "execution_count": 10,
   "id": "c7bd33b7",
   "metadata": {},
   "outputs": [],
   "source": [
    "salary = df['Compensation']"
   ]
  },
  {
   "cell_type": "code",
   "execution_count": 11,
   "id": "8c72147c",
   "metadata": {},
   "outputs": [
    {
     "data": {
      "text/plain": [
       "0       > $500,000\n",
       "1       > $500,000\n",
       "2       > $500,000\n",
       "3       > $500,000\n",
       "4       > $500,000\n",
       "           ...    \n",
       "1172     $0 to 999\n",
       "1173     $0 to 999\n",
       "1174     $0 to 999\n",
       "1175     $0 to 999\n",
       "1176     $0 to 999\n",
       "Name: Compensation, Length: 1177, dtype: object"
      ]
     },
     "execution_count": 11,
     "metadata": {},
     "output_type": "execute_result"
    }
   ],
   "source": [
    "salary\n"
   ]
  },
  {
   "cell_type": "code",
   "execution_count": 16,
   "id": "88c98de2",
   "metadata": {},
   "outputs": [],
   "source": [
    "new_salary = pd.DataFrame().assign(Salary = salary)"
   ]
  },
  {
   "cell_type": "code",
   "execution_count": 17,
   "id": "3b0fe7a9",
   "metadata": {},
   "outputs": [
    {
     "data": {
      "text/html": [
       "<div>\n",
       "<style scoped>\n",
       "    .dataframe tbody tr th:only-of-type {\n",
       "        vertical-align: middle;\n",
       "    }\n",
       "\n",
       "    .dataframe tbody tr th {\n",
       "        vertical-align: top;\n",
       "    }\n",
       "\n",
       "    .dataframe thead th {\n",
       "        text-align: right;\n",
       "    }\n",
       "</style>\n",
       "<table border=\"1\" class=\"dataframe\">\n",
       "  <thead>\n",
       "    <tr style=\"text-align: right;\">\n",
       "      <th></th>\n",
       "      <th>Salary</th>\n",
       "    </tr>\n",
       "  </thead>\n",
       "  <tbody>\n",
       "    <tr>\n",
       "      <th>0</th>\n",
       "      <td>&gt; $500,000</td>\n",
       "    </tr>\n",
       "    <tr>\n",
       "      <th>1</th>\n",
       "      <td>&gt; $500,000</td>\n",
       "    </tr>\n",
       "    <tr>\n",
       "      <th>2</th>\n",
       "      <td>&gt; $500,000</td>\n",
       "    </tr>\n",
       "    <tr>\n",
       "      <th>3</th>\n",
       "      <td>&gt; $500,000</td>\n",
       "    </tr>\n",
       "    <tr>\n",
       "      <th>4</th>\n",
       "      <td>&gt; $500,000</td>\n",
       "    </tr>\n",
       "    <tr>\n",
       "      <th>...</th>\n",
       "      <td>...</td>\n",
       "    </tr>\n",
       "    <tr>\n",
       "      <th>1172</th>\n",
       "      <td>$0 to 999</td>\n",
       "    </tr>\n",
       "    <tr>\n",
       "      <th>1173</th>\n",
       "      <td>$0 to 999</td>\n",
       "    </tr>\n",
       "    <tr>\n",
       "      <th>1174</th>\n",
       "      <td>$0 to 999</td>\n",
       "    </tr>\n",
       "    <tr>\n",
       "      <th>1175</th>\n",
       "      <td>$0 to 999</td>\n",
       "    </tr>\n",
       "    <tr>\n",
       "      <th>1176</th>\n",
       "      <td>$0 to 999</td>\n",
       "    </tr>\n",
       "  </tbody>\n",
       "</table>\n",
       "<p>1177 rows × 1 columns</p>\n",
       "</div>"
      ],
      "text/plain": [
       "          Salary\n",
       "0     > $500,000\n",
       "1     > $500,000\n",
       "2     > $500,000\n",
       "3     > $500,000\n",
       "4     > $500,000\n",
       "...          ...\n",
       "1172   $0 to 999\n",
       "1173   $0 to 999\n",
       "1174   $0 to 999\n",
       "1175   $0 to 999\n",
       "1176   $0 to 999\n",
       "\n",
       "[1177 rows x 1 columns]"
      ]
     },
     "execution_count": 17,
     "metadata": {},
     "output_type": "execute_result"
    }
   ],
   "source": [
    "new_salary\n"
   ]
  },
  {
   "cell_type": "code",
   "execution_count": 19,
   "id": "ef74a346",
   "metadata": {},
   "outputs": [],
   "source": [
    "job_title = df['Title']"
   ]
  },
  {
   "cell_type": "code",
   "execution_count": 20,
   "id": "cd32200f",
   "metadata": {},
   "outputs": [],
   "source": [
    "job_table = pd.DataFrame().assign(Job = job_title)"
   ]
  },
  {
   "cell_type": "code",
   "execution_count": 21,
   "id": "e389233d",
   "metadata": {},
   "outputs": [
    {
     "data": {
      "text/html": [
       "<div>\n",
       "<style scoped>\n",
       "    .dataframe tbody tr th:only-of-type {\n",
       "        vertical-align: middle;\n",
       "    }\n",
       "\n",
       "    .dataframe tbody tr th {\n",
       "        vertical-align: top;\n",
       "    }\n",
       "\n",
       "    .dataframe thead th {\n",
       "        text-align: right;\n",
       "    }\n",
       "</style>\n",
       "<table border=\"1\" class=\"dataframe\">\n",
       "  <thead>\n",
       "    <tr style=\"text-align: right;\">\n",
       "      <th></th>\n",
       "      <th>Job</th>\n",
       "    </tr>\n",
       "  </thead>\n",
       "  <tbody>\n",
       "    <tr>\n",
       "      <th>0</th>\n",
       "      <td>Data Scientist</td>\n",
       "    </tr>\n",
       "    <tr>\n",
       "      <th>1</th>\n",
       "      <td>Data Scientist</td>\n",
       "    </tr>\n",
       "    <tr>\n",
       "      <th>2</th>\n",
       "      <td>Data Scientist</td>\n",
       "    </tr>\n",
       "    <tr>\n",
       "      <th>3</th>\n",
       "      <td>Product/Project Manager</td>\n",
       "    </tr>\n",
       "    <tr>\n",
       "      <th>4</th>\n",
       "      <td>Business Analyst</td>\n",
       "    </tr>\n",
       "    <tr>\n",
       "      <th>...</th>\n",
       "      <td>...</td>\n",
       "    </tr>\n",
       "    <tr>\n",
       "      <th>1172</th>\n",
       "      <td>Software Engineer</td>\n",
       "    </tr>\n",
       "    <tr>\n",
       "      <th>1173</th>\n",
       "      <td>Other</td>\n",
       "    </tr>\n",
       "    <tr>\n",
       "      <th>1174</th>\n",
       "      <td>Other</td>\n",
       "    </tr>\n",
       "    <tr>\n",
       "      <th>1175</th>\n",
       "      <td>Other</td>\n",
       "    </tr>\n",
       "    <tr>\n",
       "      <th>1176</th>\n",
       "      <td>Other</td>\n",
       "    </tr>\n",
       "  </tbody>\n",
       "</table>\n",
       "<p>1177 rows × 1 columns</p>\n",
       "</div>"
      ],
      "text/plain": [
       "                          Job\n",
       "0              Data Scientist\n",
       "1              Data Scientist\n",
       "2              Data Scientist\n",
       "3     Product/Project Manager\n",
       "4            Business Analyst\n",
       "...                       ...\n",
       "1172        Software Engineer\n",
       "1173                    Other\n",
       "1174                    Other\n",
       "1175                    Other\n",
       "1176                    Other\n",
       "\n",
       "[1177 rows x 1 columns]"
      ]
     },
     "execution_count": 21,
     "metadata": {},
     "output_type": "execute_result"
    }
   ],
   "source": [
    "job_table"
   ]
  },
  {
   "cell_type": "code",
   "execution_count": 33,
   "id": "16ae01ce",
   "metadata": {},
   "outputs": [],
   "source": [
    "df_1 = job_table.merge(new_salary, left_index = True,right_index = True)"
   ]
  },
  {
   "cell_type": "code",
   "execution_count": 34,
   "id": "7d18b85e",
   "metadata": {},
   "outputs": [
    {
     "data": {
      "text/html": [
       "<div>\n",
       "<style scoped>\n",
       "    .dataframe tbody tr th:only-of-type {\n",
       "        vertical-align: middle;\n",
       "    }\n",
       "\n",
       "    .dataframe tbody tr th {\n",
       "        vertical-align: top;\n",
       "    }\n",
       "\n",
       "    .dataframe thead th {\n",
       "        text-align: right;\n",
       "    }\n",
       "</style>\n",
       "<table border=\"1\" class=\"dataframe\">\n",
       "  <thead>\n",
       "    <tr style=\"text-align: right;\">\n",
       "      <th></th>\n",
       "      <th>Job</th>\n",
       "      <th>Salary</th>\n",
       "    </tr>\n",
       "  </thead>\n",
       "  <tbody>\n",
       "    <tr>\n",
       "      <th>0</th>\n",
       "      <td>Data Scientist</td>\n",
       "      <td>&gt; $500,000</td>\n",
       "    </tr>\n",
       "    <tr>\n",
       "      <th>1</th>\n",
       "      <td>Data Scientist</td>\n",
       "      <td>&gt; $500,000</td>\n",
       "    </tr>\n",
       "    <tr>\n",
       "      <th>2</th>\n",
       "      <td>Data Scientist</td>\n",
       "      <td>&gt; $500,000</td>\n",
       "    </tr>\n",
       "    <tr>\n",
       "      <th>3</th>\n",
       "      <td>Product/Project Manager</td>\n",
       "      <td>&gt; $500,000</td>\n",
       "    </tr>\n",
       "    <tr>\n",
       "      <th>4</th>\n",
       "      <td>Business Analyst</td>\n",
       "      <td>&gt; $500,000</td>\n",
       "    </tr>\n",
       "    <tr>\n",
       "      <th>...</th>\n",
       "      <td>...</td>\n",
       "      <td>...</td>\n",
       "    </tr>\n",
       "    <tr>\n",
       "      <th>1172</th>\n",
       "      <td>Software Engineer</td>\n",
       "      <td>$0 to 999</td>\n",
       "    </tr>\n",
       "    <tr>\n",
       "      <th>1173</th>\n",
       "      <td>Other</td>\n",
       "      <td>$0 to 999</td>\n",
       "    </tr>\n",
       "    <tr>\n",
       "      <th>1174</th>\n",
       "      <td>Other</td>\n",
       "      <td>$0 to 999</td>\n",
       "    </tr>\n",
       "    <tr>\n",
       "      <th>1175</th>\n",
       "      <td>Other</td>\n",
       "      <td>$0 to 999</td>\n",
       "    </tr>\n",
       "    <tr>\n",
       "      <th>1176</th>\n",
       "      <td>Other</td>\n",
       "      <td>$0 to 999</td>\n",
       "    </tr>\n",
       "  </tbody>\n",
       "</table>\n",
       "<p>1177 rows × 2 columns</p>\n",
       "</div>"
      ],
      "text/plain": [
       "                          Job      Salary\n",
       "0              Data Scientist  > $500,000\n",
       "1              Data Scientist  > $500,000\n",
       "2              Data Scientist  > $500,000\n",
       "3     Product/Project Manager  > $500,000\n",
       "4            Business Analyst  > $500,000\n",
       "...                       ...         ...\n",
       "1172        Software Engineer   $0 to 999\n",
       "1173                    Other   $0 to 999\n",
       "1174                    Other   $0 to 999\n",
       "1175                    Other   $0 to 999\n",
       "1176                    Other   $0 to 999\n",
       "\n",
       "[1177 rows x 2 columns]"
      ]
     },
     "execution_count": 34,
     "metadata": {},
     "output_type": "execute_result"
    }
   ],
   "source": [
    "df_1 "
   ]
  },
  {
   "cell_type": "code",
   "execution_count": 36,
   "id": "a29f9af2",
   "metadata": {},
   "outputs": [],
   "source": [
    "df_1 = df_1.drop_duplicates(keep=False)"
   ]
  },
  {
   "cell_type": "code",
   "execution_count": 38,
   "id": "de0b49e8",
   "metadata": {},
   "outputs": [
    {
     "data": {
      "text/html": [
       "<div>\n",
       "<style scoped>\n",
       "    .dataframe tbody tr th:only-of-type {\n",
       "        vertical-align: middle;\n",
       "    }\n",
       "\n",
       "    .dataframe tbody tr th {\n",
       "        vertical-align: top;\n",
       "    }\n",
       "\n",
       "    .dataframe thead th {\n",
       "        text-align: right;\n",
       "    }\n",
       "</style>\n",
       "<table border=\"1\" class=\"dataframe\">\n",
       "  <thead>\n",
       "    <tr style=\"text-align: right;\">\n",
       "      <th></th>\n",
       "      <th>Job</th>\n",
       "      <th>Salary</th>\n",
       "    </tr>\n",
       "  </thead>\n",
       "  <tbody>\n",
       "    <tr>\n",
       "      <th>18</th>\n",
       "      <td>Research Scientist</td>\n",
       "      <td>&gt; $500,000</td>\n",
       "    </tr>\n",
       "    <tr>\n",
       "      <th>45</th>\n",
       "      <td>Business Analyst</td>\n",
       "      <td>300,000 to 500,000</td>\n",
       "    </tr>\n",
       "    <tr>\n",
       "      <th>46</th>\n",
       "      <td>Data Analyst</td>\n",
       "      <td>300,000 to 500,000</td>\n",
       "    </tr>\n",
       "    <tr>\n",
       "      <th>982</th>\n",
       "      <td>Data Engineer</td>\n",
       "      <td>40,000 to 49,999</td>\n",
       "    </tr>\n",
       "    <tr>\n",
       "      <th>1021</th>\n",
       "      <td>Research Scientist</td>\n",
       "      <td>25,000 to 29,999</td>\n",
       "    </tr>\n",
       "    <tr>\n",
       "      <th>1034</th>\n",
       "      <td>Statistician</td>\n",
       "      <td>25,000 to 29,999</td>\n",
       "    </tr>\n",
       "    <tr>\n",
       "      <th>1046</th>\n",
       "      <td>Data Scientist</td>\n",
       "      <td>20,000 to 24,999</td>\n",
       "    </tr>\n",
       "    <tr>\n",
       "      <th>1051</th>\n",
       "      <td>Research Scientist</td>\n",
       "      <td>15,000 to 19,999</td>\n",
       "    </tr>\n",
       "    <tr>\n",
       "      <th>1063</th>\n",
       "      <td>Product/Project Manager</td>\n",
       "      <td>15,000 to 19,999</td>\n",
       "    </tr>\n",
       "    <tr>\n",
       "      <th>1064</th>\n",
       "      <td>Data Engineer</td>\n",
       "      <td>15,000 to 19,999</td>\n",
       "    </tr>\n",
       "    <tr>\n",
       "      <th>1069</th>\n",
       "      <td>Research Scientist</td>\n",
       "      <td>10,000 to 14,999</td>\n",
       "    </tr>\n",
       "    <tr>\n",
       "      <th>1077</th>\n",
       "      <td>Product/Project Manager</td>\n",
       "      <td>10,000 to 14,999</td>\n",
       "    </tr>\n",
       "    <tr>\n",
       "      <th>1079</th>\n",
       "      <td>Research Scientist</td>\n",
       "      <td>7,500 to 9,999</td>\n",
       "    </tr>\n",
       "    <tr>\n",
       "      <th>1080</th>\n",
       "      <td>Data Analyst</td>\n",
       "      <td>7,500 to 9,999</td>\n",
       "    </tr>\n",
       "    <tr>\n",
       "      <th>1081</th>\n",
       "      <td>Data Scientist</td>\n",
       "      <td>7,500 to 9,999</td>\n",
       "    </tr>\n",
       "    <tr>\n",
       "      <th>1097</th>\n",
       "      <td>Research Scientist</td>\n",
       "      <td>3,000 to 3,999</td>\n",
       "    </tr>\n",
       "    <tr>\n",
       "      <th>1098</th>\n",
       "      <td>Product/Project Manager</td>\n",
       "      <td>3,000 to 3,999</td>\n",
       "    </tr>\n",
       "    <tr>\n",
       "      <th>1099</th>\n",
       "      <td>Business Analyst</td>\n",
       "      <td>3,000 to 3,999</td>\n",
       "    </tr>\n",
       "    <tr>\n",
       "      <th>1100</th>\n",
       "      <td>Data Engineer</td>\n",
       "      <td>3,000 to 3,999</td>\n",
       "    </tr>\n",
       "    <tr>\n",
       "      <th>1102</th>\n",
       "      <td>Data Engineer</td>\n",
       "      <td>2,000 to 2,999</td>\n",
       "    </tr>\n",
       "    <tr>\n",
       "      <th>1103</th>\n",
       "      <td>Data Scientist</td>\n",
       "      <td>2,000 to 2,999</td>\n",
       "    </tr>\n",
       "    <tr>\n",
       "      <th>1105</th>\n",
       "      <td>Business Analyst</td>\n",
       "      <td>1,000 to 1,999</td>\n",
       "    </tr>\n",
       "    <tr>\n",
       "      <th>1106</th>\n",
       "      <td>Statistician</td>\n",
       "      <td>1,000 to 1,999</td>\n",
       "    </tr>\n",
       "    <tr>\n",
       "      <th>1108</th>\n",
       "      <td>Software Engineer</td>\n",
       "      <td>1,000 to 1,999</td>\n",
       "    </tr>\n",
       "    <tr>\n",
       "      <th>1110</th>\n",
       "      <td>Research Scientist</td>\n",
       "      <td>1,000 to 1,999</td>\n",
       "    </tr>\n",
       "  </tbody>\n",
       "</table>\n",
       "</div>"
      ],
      "text/plain": [
       "                          Job              Salary\n",
       "18         Research Scientist          > $500,000\n",
       "45           Business Analyst  300,000 to 500,000\n",
       "46               Data Analyst  300,000 to 500,000\n",
       "982             Data Engineer    40,000 to 49,999\n",
       "1021       Research Scientist    25,000 to 29,999\n",
       "1034             Statistician    25,000 to 29,999\n",
       "1046           Data Scientist    20,000 to 24,999\n",
       "1051       Research Scientist    15,000 to 19,999\n",
       "1063  Product/Project Manager    15,000 to 19,999\n",
       "1064            Data Engineer    15,000 to 19,999\n",
       "1069       Research Scientist    10,000 to 14,999\n",
       "1077  Product/Project Manager    10,000 to 14,999\n",
       "1079       Research Scientist      7,500 to 9,999\n",
       "1080             Data Analyst      7,500 to 9,999\n",
       "1081           Data Scientist      7,500 to 9,999\n",
       "1097       Research Scientist      3,000 to 3,999\n",
       "1098  Product/Project Manager      3,000 to 3,999\n",
       "1099         Business Analyst      3,000 to 3,999\n",
       "1100            Data Engineer      3,000 to 3,999\n",
       "1102            Data Engineer      2,000 to 2,999\n",
       "1103           Data Scientist      2,000 to 2,999\n",
       "1105         Business Analyst      1,000 to 1,999\n",
       "1106             Statistician      1,000 to 1,999\n",
       "1108        Software Engineer      1,000 to 1,999\n",
       "1110       Research Scientist      1,000 to 1,999"
      ]
     },
     "execution_count": 38,
     "metadata": {},
     "output_type": "execute_result"
    }
   ],
   "source": [
    "df_1 #data table to compare between salary and job title\n"
   ]
  },
  {
   "cell_type": "code",
   "execution_count": 54,
   "id": "4face316",
   "metadata": {},
   "outputs": [],
   "source": [
    "temp1 = df_1[df_1.Salary.str.contains('to')]\n",
    "temp2 = df_1[df_1.Salary.str.contains('>')]"
   ]
  },
  {
   "cell_type": "code",
   "execution_count": 58,
   "id": "91c1a76f",
   "metadata": {},
   "outputs": [
    {
     "name": "stderr",
     "output_type": "stream",
     "text": [
      "/var/folders/r3/mc3pdgtj3rn3d0pd71phd8540000gr/T/ipykernel_69458/2989763313.py:1: SettingWithCopyWarning: \n",
      "A value is trying to be set on a copy of a slice from a DataFrame.\n",
      "Try using .loc[row_indexer,col_indexer] = value instead\n",
      "\n",
      "See the caveats in the documentation: https://pandas.pydata.org/pandas-docs/stable/user_guide/indexing.html#returning-a-view-versus-a-copy\n",
      "  temp1['min_salary'] = temp1['Salary'].apply(lambda x: x.split()[0])\n"
     ]
    }
   ],
   "source": [
    "temp1['min_salary'] = temp1['Salary'].apply(lambda x: x.split()[0])"
   ]
  },
  {
   "cell_type": "code",
   "execution_count": 60,
   "id": "53385aea",
   "metadata": {},
   "outputs": [
    {
     "name": "stderr",
     "output_type": "stream",
     "text": [
      "/var/folders/r3/mc3pdgtj3rn3d0pd71phd8540000gr/T/ipykernel_69458/3748127461.py:1: SettingWithCopyWarning: \n",
      "A value is trying to be set on a copy of a slice from a DataFrame.\n",
      "Try using .loc[row_indexer,col_indexer] = value instead\n",
      "\n",
      "See the caveats in the documentation: https://pandas.pydata.org/pandas-docs/stable/user_guide/indexing.html#returning-a-view-versus-a-copy\n",
      "  temp1['min_salary'] = temp1['min_salary'].apply(lambda x: x.replace(\",\",\"\"))\n"
     ]
    }
   ],
   "source": [
    "temp1['min_salary'] = temp1['min_salary'].apply(lambda x: x.replace(\",\",\"\"))"
   ]
  },
  {
   "cell_type": "code",
   "execution_count": 62,
   "id": "4b520d0f",
   "metadata": {},
   "outputs": [
    {
     "name": "stderr",
     "output_type": "stream",
     "text": [
      "/var/folders/r3/mc3pdgtj3rn3d0pd71phd8540000gr/T/ipykernel_69458/537543354.py:1: SettingWithCopyWarning: \n",
      "A value is trying to be set on a copy of a slice from a DataFrame.\n",
      "Try using .loc[row_indexer,col_indexer] = value instead\n",
      "\n",
      "See the caveats in the documentation: https://pandas.pydata.org/pandas-docs/stable/user_guide/indexing.html#returning-a-view-versus-a-copy\n",
      "  temp1['min_salary'] = temp1['min_salary'].apply(lambda x: int(x))\n"
     ]
    }
   ],
   "source": [
    "temp1['min_salary'] = temp1['min_salary'].apply(lambda x: int(x))"
   ]
  },
  {
   "cell_type": "code",
   "execution_count": 65,
   "id": "71a272c1",
   "metadata": {},
   "outputs": [
    {
     "name": "stderr",
     "output_type": "stream",
     "text": [
      "/var/folders/r3/mc3pdgtj3rn3d0pd71phd8540000gr/T/ipykernel_69458/3566320115.py:1: SettingWithCopyWarning: \n",
      "A value is trying to be set on a copy of a slice from a DataFrame.\n",
      "Try using .loc[row_indexer,col_indexer] = value instead\n",
      "\n",
      "See the caveats in the documentation: https://pandas.pydata.org/pandas-docs/stable/user_guide/indexing.html#returning-a-view-versus-a-copy\n",
      "  temp1['max_salary'] = temp1['Salary'].apply(lambda x: x.split()[2])\n"
     ]
    }
   ],
   "source": [
    "temp1['max_salary'] = temp1['Salary'].apply(lambda x: x.split()[2])"
   ]
  },
  {
   "cell_type": "code",
   "execution_count": 66,
   "id": "9d5aae90",
   "metadata": {},
   "outputs": [
    {
     "name": "stderr",
     "output_type": "stream",
     "text": [
      "/var/folders/r3/mc3pdgtj3rn3d0pd71phd8540000gr/T/ipykernel_69458/2489682385.py:1: SettingWithCopyWarning: \n",
      "A value is trying to be set on a copy of a slice from a DataFrame.\n",
      "Try using .loc[row_indexer,col_indexer] = value instead\n",
      "\n",
      "See the caveats in the documentation: https://pandas.pydata.org/pandas-docs/stable/user_guide/indexing.html#returning-a-view-versus-a-copy\n",
      "  temp1['max_salary'] = temp1['max_salary'].apply(lambda x: x.replace(\",\",\"\"))\n"
     ]
    }
   ],
   "source": [
    "temp1['max_salary'] = temp1['max_salary'].apply(lambda x: x.replace(\",\",\"\"))"
   ]
  },
  {
   "cell_type": "code",
   "execution_count": 67,
   "id": "df8978b3",
   "metadata": {},
   "outputs": [
    {
     "name": "stderr",
     "output_type": "stream",
     "text": [
      "/var/folders/r3/mc3pdgtj3rn3d0pd71phd8540000gr/T/ipykernel_69458/3613978787.py:1: SettingWithCopyWarning: \n",
      "A value is trying to be set on a copy of a slice from a DataFrame.\n",
      "Try using .loc[row_indexer,col_indexer] = value instead\n",
      "\n",
      "See the caveats in the documentation: https://pandas.pydata.org/pandas-docs/stable/user_guide/indexing.html#returning-a-view-versus-a-copy\n",
      "  temp1['max_salary'] = temp1['max_salary'].apply(lambda x: int(x))\n"
     ]
    }
   ],
   "source": [
    "temp1['max_salary'] = temp1['max_salary'].apply(lambda x: int(x))"
   ]
  },
  {
   "cell_type": "code",
   "execution_count": 69,
   "id": "0ab9d58a",
   "metadata": {},
   "outputs": [
    {
     "name": "stderr",
     "output_type": "stream",
     "text": [
      "/var/folders/r3/mc3pdgtj3rn3d0pd71phd8540000gr/T/ipykernel_69458/2950458635.py:1: SettingWithCopyWarning: \n",
      "A value is trying to be set on a copy of a slice from a DataFrame.\n",
      "Try using .loc[row_indexer,col_indexer] = value instead\n",
      "\n",
      "See the caveats in the documentation: https://pandas.pydata.org/pandas-docs/stable/user_guide/indexing.html#returning-a-view-versus-a-copy\n",
      "  temp1['avg_salary'] = (temp1.min_salary + temp1.max_salary)/2\n"
     ]
    }
   ],
   "source": [
    "temp1['avg_salary'] = (temp1.min_salary + temp1.max_salary)/2"
   ]
  },
  {
   "cell_type": "code",
   "execution_count": 76,
   "id": "08115dfd",
   "metadata": {},
   "outputs": [
    {
     "name": "stderr",
     "output_type": "stream",
     "text": [
      "/var/folders/r3/mc3pdgtj3rn3d0pd71phd8540000gr/T/ipykernel_69458/1015847642.py:1: SettingWithCopyWarning: \n",
      "A value is trying to be set on a copy of a slice from a DataFrame.\n",
      "Try using .loc[row_indexer,col_indexer] = value instead\n",
      "\n",
      "See the caveats in the documentation: https://pandas.pydata.org/pandas-docs/stable/user_guide/indexing.html#returning-a-view-versus-a-copy\n",
      "  temp2['Salary'] = temp2.Salary.apply(lambda y: y.replace(\"> $\",\"\"))\n"
     ]
    }
   ],
   "source": [
    "temp2['Salary'] = temp2.Salary.apply(lambda y: y.replace(\"> $\",\"\"))"
   ]
  },
  {
   "cell_type": "code",
   "execution_count": 77,
   "id": "d4e13b57",
   "metadata": {},
   "outputs": [
    {
     "data": {
      "text/html": [
       "<div>\n",
       "<style scoped>\n",
       "    .dataframe tbody tr th:only-of-type {\n",
       "        vertical-align: middle;\n",
       "    }\n",
       "\n",
       "    .dataframe tbody tr th {\n",
       "        vertical-align: top;\n",
       "    }\n",
       "\n",
       "    .dataframe thead th {\n",
       "        text-align: right;\n",
       "    }\n",
       "</style>\n",
       "<table border=\"1\" class=\"dataframe\">\n",
       "  <thead>\n",
       "    <tr style=\"text-align: right;\">\n",
       "      <th></th>\n",
       "      <th>Job</th>\n",
       "      <th>Salary</th>\n",
       "    </tr>\n",
       "  </thead>\n",
       "  <tbody>\n",
       "    <tr>\n",
       "      <th>18</th>\n",
       "      <td>Research Scientist</td>\n",
       "      <td>500,000</td>\n",
       "    </tr>\n",
       "  </tbody>\n",
       "</table>\n",
       "</div>"
      ],
      "text/plain": [
       "                   Job   Salary\n",
       "18  Research Scientist  500,000"
      ]
     },
     "execution_count": 77,
     "metadata": {},
     "output_type": "execute_result"
    }
   ],
   "source": [
    "temp2"
   ]
  },
  {
   "cell_type": "code",
   "execution_count": 78,
   "id": "3dae0626",
   "metadata": {},
   "outputs": [
    {
     "name": "stderr",
     "output_type": "stream",
     "text": [
      "/var/folders/r3/mc3pdgtj3rn3d0pd71phd8540000gr/T/ipykernel_69458/1135915396.py:1: SettingWithCopyWarning: \n",
      "A value is trying to be set on a copy of a slice from a DataFrame.\n",
      "Try using .loc[row_indexer,col_indexer] = value instead\n",
      "\n",
      "See the caveats in the documentation: https://pandas.pydata.org/pandas-docs/stable/user_guide/indexing.html#returning-a-view-versus-a-copy\n",
      "  temp2['min_salary'] = temp2.Salary.apply(lambda y: y.replace(\",\",\"\"))\n"
     ]
    }
   ],
   "source": [
    "temp2['min_salary'] = temp2.Salary.apply(lambda y: y.replace(\",\",\"\"))"
   ]
  },
  {
   "cell_type": "code",
   "execution_count": 80,
   "id": "cafde8bb",
   "metadata": {},
   "outputs": [
    {
     "name": "stderr",
     "output_type": "stream",
     "text": [
      "/var/folders/r3/mc3pdgtj3rn3d0pd71phd8540000gr/T/ipykernel_69458/2653913161.py:1: SettingWithCopyWarning: \n",
      "A value is trying to be set on a copy of a slice from a DataFrame.\n",
      "Try using .loc[row_indexer,col_indexer] = value instead\n",
      "\n",
      "See the caveats in the documentation: https://pandas.pydata.org/pandas-docs/stable/user_guide/indexing.html#returning-a-view-versus-a-copy\n",
      "  temp2['min_salary'] = temp2.min_salary.apply(lambda y: int(y))\n"
     ]
    }
   ],
   "source": [
    "temp2['min_salary'] = temp2.min_salary.apply(lambda y: int(y))\n"
   ]
  },
  {
   "cell_type": "code",
   "execution_count": 83,
   "id": "f839e1de",
   "metadata": {},
   "outputs": [
    {
     "name": "stderr",
     "output_type": "stream",
     "text": [
      "/var/folders/r3/mc3pdgtj3rn3d0pd71phd8540000gr/T/ipykernel_69458/3549694586.py:1: SettingWithCopyWarning: \n",
      "A value is trying to be set on a copy of a slice from a DataFrame.\n",
      "Try using .loc[row_indexer,col_indexer] = value instead\n",
      "\n",
      "See the caveats in the documentation: https://pandas.pydata.org/pandas-docs/stable/user_guide/indexing.html#returning-a-view-versus-a-copy\n",
      "  temp2['max_salary'] = temp2['min_salary']\n",
      "/var/folders/r3/mc3pdgtj3rn3d0pd71phd8540000gr/T/ipykernel_69458/3549694586.py:2: SettingWithCopyWarning: \n",
      "A value is trying to be set on a copy of a slice from a DataFrame.\n",
      "Try using .loc[row_indexer,col_indexer] = value instead\n",
      "\n",
      "See the caveats in the documentation: https://pandas.pydata.org/pandas-docs/stable/user_guide/indexing.html#returning-a-view-versus-a-copy\n",
      "  temp2[\"avg_salary\"] = temp2['min_salary']\n"
     ]
    }
   ],
   "source": [
    "temp2['max_salary'] = temp2['min_salary']\n",
    "temp2[\"avg_salary\"] = temp2['min_salary']"
   ]
  },
  {
   "cell_type": "code",
   "execution_count": 84,
   "id": "aed8a0cc",
   "metadata": {},
   "outputs": [
    {
     "data": {
      "text/html": [
       "<div>\n",
       "<style scoped>\n",
       "    .dataframe tbody tr th:only-of-type {\n",
       "        vertical-align: middle;\n",
       "    }\n",
       "\n",
       "    .dataframe tbody tr th {\n",
       "        vertical-align: top;\n",
       "    }\n",
       "\n",
       "    .dataframe thead th {\n",
       "        text-align: right;\n",
       "    }\n",
       "</style>\n",
       "<table border=\"1\" class=\"dataframe\">\n",
       "  <thead>\n",
       "    <tr style=\"text-align: right;\">\n",
       "      <th></th>\n",
       "      <th>Job</th>\n",
       "      <th>Salary</th>\n",
       "      <th>min_salary</th>\n",
       "      <th>max_salary</th>\n",
       "      <th>avg_salary</th>\n",
       "    </tr>\n",
       "  </thead>\n",
       "  <tbody>\n",
       "    <tr>\n",
       "      <th>18</th>\n",
       "      <td>Research Scientist</td>\n",
       "      <td>500,000</td>\n",
       "      <td>500000</td>\n",
       "      <td>500000</td>\n",
       "      <td>500000</td>\n",
       "    </tr>\n",
       "  </tbody>\n",
       "</table>\n",
       "</div>"
      ],
      "text/plain": [
       "                   Job   Salary  min_salary  max_salary  avg_salary\n",
       "18  Research Scientist  500,000      500000      500000      500000"
      ]
     },
     "execution_count": 84,
     "metadata": {},
     "output_type": "execute_result"
    }
   ],
   "source": [
    "temp2"
   ]
  },
  {
   "cell_type": "code",
   "execution_count": 85,
   "id": "509b11df",
   "metadata": {},
   "outputs": [],
   "source": [
    "temp = temp1.append(temp2, ignore_index = True)"
   ]
  },
  {
   "cell_type": "code",
   "execution_count": 94,
   "id": "b4069884",
   "metadata": {},
   "outputs": [],
   "source": [
    "job_table = temp.groupby('Job').mean()"
   ]
  },
  {
   "cell_type": "code",
   "execution_count": 95,
   "id": "fd29fe50",
   "metadata": {},
   "outputs": [],
   "source": [
    "job_table = job_table.drop(columns= ['min_salary','max_salary'])"
   ]
  },
  {
   "cell_type": "code",
   "execution_count": 96,
   "id": "dcb8bb97",
   "metadata": {},
   "outputs": [],
   "source": [
    "job_table = job_table.sort_values(by= 'avg_salary')"
   ]
  },
  {
   "cell_type": "code",
   "execution_count": 98,
   "id": "1bfb170d",
   "metadata": {},
   "outputs": [
    {
     "data": {
      "text/html": [
       "<div>\n",
       "<style scoped>\n",
       "    .dataframe tbody tr th:only-of-type {\n",
       "        vertical-align: middle;\n",
       "    }\n",
       "\n",
       "    .dataframe tbody tr th {\n",
       "        vertical-align: top;\n",
       "    }\n",
       "\n",
       "    .dataframe thead th {\n",
       "        text-align: right;\n",
       "    }\n",
       "</style>\n",
       "<table border=\"1\" class=\"dataframe\">\n",
       "  <thead>\n",
       "    <tr style=\"text-align: right;\">\n",
       "      <th></th>\n",
       "      <th>avg_salary</th>\n",
       "    </tr>\n",
       "    <tr>\n",
       "      <th>Job</th>\n",
       "      <th></th>\n",
       "    </tr>\n",
       "  </thead>\n",
       "  <tbody>\n",
       "    <tr>\n",
       "      <th>Software Engineer</th>\n",
       "      <td>1499.500000</td>\n",
       "    </tr>\n",
       "    <tr>\n",
       "      <th>Product/Project Manager</th>\n",
       "      <td>11166.166667</td>\n",
       "    </tr>\n",
       "    <tr>\n",
       "      <th>Data Scientist</th>\n",
       "      <td>11249.500000</td>\n",
       "    </tr>\n",
       "    <tr>\n",
       "      <th>Statistician</th>\n",
       "      <td>14499.500000</td>\n",
       "    </tr>\n",
       "    <tr>\n",
       "      <th>Data Engineer</th>\n",
       "      <td>17124.500000</td>\n",
       "    </tr>\n",
       "    <tr>\n",
       "      <th>Research Scientist</th>\n",
       "      <td>81606.714286</td>\n",
       "    </tr>\n",
       "    <tr>\n",
       "      <th>Business Analyst</th>\n",
       "      <td>134999.666667</td>\n",
       "    </tr>\n",
       "    <tr>\n",
       "      <th>Data Analyst</th>\n",
       "      <td>204374.750000</td>\n",
       "    </tr>\n",
       "  </tbody>\n",
       "</table>\n",
       "</div>"
      ],
      "text/plain": [
       "                            avg_salary\n",
       "Job                                   \n",
       "Software Engineer          1499.500000\n",
       "Product/Project Manager   11166.166667\n",
       "Data Scientist            11249.500000\n",
       "Statistician              14499.500000\n",
       "Data Engineer             17124.500000\n",
       "Research Scientist        81606.714286\n",
       "Business Analyst         134999.666667\n",
       "Data Analyst             204374.750000"
      ]
     },
     "execution_count": 98,
     "metadata": {},
     "output_type": "execute_result"
    }
   ],
   "source": [
    "job_table \n",
    "#created a job_table with the average salary of all the different positions\n",
    "#data may be distorted because the different variables such as the company_size, gender, etc may not have been evenly\n",
    "#distributed for all the different jobs"
   ]
  },
  {
   "cell_type": "code",
   "execution_count": 104,
   "id": "fa7a7c90",
   "metadata": {},
   "outputs": [],
   "source": [
    "#create a table to compare the salary with company size\n",
    "company_table = pd.DataFrame().assign(company_size = df['Company_Size'], salary = df['Compensation'])"
   ]
  },
  {
   "cell_type": "code",
   "execution_count": 105,
   "id": "b8e6798d",
   "metadata": {},
   "outputs": [],
   "source": [
    "company_table = company_table.drop_duplicates(keep=False)"
   ]
  },
  {
   "cell_type": "code",
   "execution_count": 106,
   "id": "a1841302",
   "metadata": {},
   "outputs": [],
   "source": [
    "#start cleaning up the data \n",
    "temp1 = company_table[company_table.salary.str.contains('to')]\n",
    "temp2 = company_table[company_table.salary.str.contains('>')]"
   ]
  },
  {
   "cell_type": "code",
   "execution_count": 112,
   "id": "8b64bbe1",
   "metadata": {},
   "outputs": [
    {
     "name": "stderr",
     "output_type": "stream",
     "text": [
      "/var/folders/r3/mc3pdgtj3rn3d0pd71phd8540000gr/T/ipykernel_69458/2002384643.py:2: SettingWithCopyWarning: \n",
      "A value is trying to be set on a copy of a slice from a DataFrame.\n",
      "Try using .loc[row_indexer,col_indexer] = value instead\n",
      "\n",
      "See the caveats in the documentation: https://pandas.pydata.org/pandas-docs/stable/user_guide/indexing.html#returning-a-view-versus-a-copy\n",
      "  temp1['min_salary'] = temp1['salary'].apply(lambda x: x.split()[0])\n",
      "/var/folders/r3/mc3pdgtj3rn3d0pd71phd8540000gr/T/ipykernel_69458/2002384643.py:3: SettingWithCopyWarning: \n",
      "A value is trying to be set on a copy of a slice from a DataFrame.\n",
      "Try using .loc[row_indexer,col_indexer] = value instead\n",
      "\n",
      "See the caveats in the documentation: https://pandas.pydata.org/pandas-docs/stable/user_guide/indexing.html#returning-a-view-versus-a-copy\n",
      "  temp1['min_salary'] = temp1['min_salary'].apply(lambda x: x.replace(\",\",\"\"))\n",
      "/var/folders/r3/mc3pdgtj3rn3d0pd71phd8540000gr/T/ipykernel_69458/2002384643.py:4: SettingWithCopyWarning: \n",
      "A value is trying to be set on a copy of a slice from a DataFrame.\n",
      "Try using .loc[row_indexer,col_indexer] = value instead\n",
      "\n",
      "See the caveats in the documentation: https://pandas.pydata.org/pandas-docs/stable/user_guide/indexing.html#returning-a-view-versus-a-copy\n",
      "  temp1['min_salary'] = temp1['min_salary'].apply(lambda x: int(x))\n",
      "/var/folders/r3/mc3pdgtj3rn3d0pd71phd8540000gr/T/ipykernel_69458/2002384643.py:5: SettingWithCopyWarning: \n",
      "A value is trying to be set on a copy of a slice from a DataFrame.\n",
      "Try using .loc[row_indexer,col_indexer] = value instead\n",
      "\n",
      "See the caveats in the documentation: https://pandas.pydata.org/pandas-docs/stable/user_guide/indexing.html#returning-a-view-versus-a-copy\n",
      "  temp1['max_salary'] = temp1['salary'].apply(lambda x: x.split()[2])\n",
      "/var/folders/r3/mc3pdgtj3rn3d0pd71phd8540000gr/T/ipykernel_69458/2002384643.py:6: SettingWithCopyWarning: \n",
      "A value is trying to be set on a copy of a slice from a DataFrame.\n",
      "Try using .loc[row_indexer,col_indexer] = value instead\n",
      "\n",
      "See the caveats in the documentation: https://pandas.pydata.org/pandas-docs/stable/user_guide/indexing.html#returning-a-view-versus-a-copy\n",
      "  temp1['max_salary'] = temp1['max_salary'].apply(lambda x: x.replace(\",\",\"\"))\n",
      "/var/folders/r3/mc3pdgtj3rn3d0pd71phd8540000gr/T/ipykernel_69458/2002384643.py:7: SettingWithCopyWarning: \n",
      "A value is trying to be set on a copy of a slice from a DataFrame.\n",
      "Try using .loc[row_indexer,col_indexer] = value instead\n",
      "\n",
      "See the caveats in the documentation: https://pandas.pydata.org/pandas-docs/stable/user_guide/indexing.html#returning-a-view-versus-a-copy\n",
      "  temp1['max_salary'] = temp1['max_salary'].apply(lambda x: int(x))\n",
      "/var/folders/r3/mc3pdgtj3rn3d0pd71phd8540000gr/T/ipykernel_69458/2002384643.py:8: SettingWithCopyWarning: \n",
      "A value is trying to be set on a copy of a slice from a DataFrame.\n",
      "Try using .loc[row_indexer,col_indexer] = value instead\n",
      "\n",
      "See the caveats in the documentation: https://pandas.pydata.org/pandas-docs/stable/user_guide/indexing.html#returning-a-view-versus-a-copy\n",
      "  temp1['avg_salary'] = (temp1.min_salary + temp1.max_salary)/2\n"
     ]
    }
   ],
   "source": [
    "#clean up the salary with range\n",
    "temp1['min_salary'] = temp1['salary'].apply(lambda x: x.split()[0])\n",
    "temp1['min_salary'] = temp1['min_salary'].apply(lambda x: x.replace(\",\",\"\"))\n",
    "temp1['min_salary'] = temp1['min_salary'].apply(lambda x: int(x))\n",
    "temp1['max_salary'] = temp1['salary'].apply(lambda x: x.split()[2])\n",
    "temp1['max_salary'] = temp1['max_salary'].apply(lambda x: x.replace(\",\",\"\"))\n",
    "temp1['max_salary'] = temp1['max_salary'].apply(lambda x: int(x))\n",
    "temp1['avg_salary'] = (temp1.min_salary + temp1.max_salary)/2"
   ]
  },
  {
   "cell_type": "code",
   "execution_count": 113,
   "id": "47e6e6a6",
   "metadata": {},
   "outputs": [
    {
     "name": "stderr",
     "output_type": "stream",
     "text": [
      "/var/folders/r3/mc3pdgtj3rn3d0pd71phd8540000gr/T/ipykernel_69458/1777180455.py:1: SettingWithCopyWarning: \n",
      "A value is trying to be set on a copy of a slice from a DataFrame.\n",
      "Try using .loc[row_indexer,col_indexer] = value instead\n",
      "\n",
      "See the caveats in the documentation: https://pandas.pydata.org/pandas-docs/stable/user_guide/indexing.html#returning-a-view-versus-a-copy\n",
      "  temp2['salary'] = temp2.salary.apply(lambda y: y.replace(\"> $\",\"\"))\n",
      "/var/folders/r3/mc3pdgtj3rn3d0pd71phd8540000gr/T/ipykernel_69458/1777180455.py:2: SettingWithCopyWarning: \n",
      "A value is trying to be set on a copy of a slice from a DataFrame.\n",
      "Try using .loc[row_indexer,col_indexer] = value instead\n",
      "\n",
      "See the caveats in the documentation: https://pandas.pydata.org/pandas-docs/stable/user_guide/indexing.html#returning-a-view-versus-a-copy\n",
      "  temp2['min_salary'] = temp2.salary.apply(lambda y: y.replace(\",\",\"\"))\n",
      "/var/folders/r3/mc3pdgtj3rn3d0pd71phd8540000gr/T/ipykernel_69458/1777180455.py:3: SettingWithCopyWarning: \n",
      "A value is trying to be set on a copy of a slice from a DataFrame.\n",
      "Try using .loc[row_indexer,col_indexer] = value instead\n",
      "\n",
      "See the caveats in the documentation: https://pandas.pydata.org/pandas-docs/stable/user_guide/indexing.html#returning-a-view-versus-a-copy\n",
      "  temp2['min_salary'] = temp2.min_salary.apply(lambda y: int(y))\n",
      "/var/folders/r3/mc3pdgtj3rn3d0pd71phd8540000gr/T/ipykernel_69458/1777180455.py:4: SettingWithCopyWarning: \n",
      "A value is trying to be set on a copy of a slice from a DataFrame.\n",
      "Try using .loc[row_indexer,col_indexer] = value instead\n",
      "\n",
      "See the caveats in the documentation: https://pandas.pydata.org/pandas-docs/stable/user_guide/indexing.html#returning-a-view-versus-a-copy\n",
      "  temp2['max_salary'] = temp2['min_salary']\n",
      "/var/folders/r3/mc3pdgtj3rn3d0pd71phd8540000gr/T/ipykernel_69458/1777180455.py:5: SettingWithCopyWarning: \n",
      "A value is trying to be set on a copy of a slice from a DataFrame.\n",
      "Try using .loc[row_indexer,col_indexer] = value instead\n",
      "\n",
      "See the caveats in the documentation: https://pandas.pydata.org/pandas-docs/stable/user_guide/indexing.html#returning-a-view-versus-a-copy\n",
      "  temp2[\"avg_salary\"] = temp2['min_salary']\n"
     ]
    }
   ],
   "source": [
    "temp2['salary'] = temp2.salary.apply(lambda y: y.replace(\"> $\",\"\"))\n",
    "temp2['min_salary'] = temp2.salary.apply(lambda y: y.replace(\",\",\"\"))\n",
    "temp2['min_salary'] = temp2.min_salary.apply(lambda y: int(y))\n",
    "temp2['max_salary'] = temp2['min_salary']\n",
    "temp2[\"avg_salary\"] = temp2['min_salary']"
   ]
  },
  {
   "cell_type": "code",
   "execution_count": 115,
   "id": "f97a33d4",
   "metadata": {},
   "outputs": [],
   "source": [
    "temp = temp1.append(temp2,ignore_index = True)"
   ]
  },
  {
   "cell_type": "code",
   "execution_count": 117,
   "id": "5d84fc59",
   "metadata": {},
   "outputs": [],
   "source": [
    "company_table = temp.groupby('company_size').mean().drop(columns=['min_salary','max_salary'])"
   ]
  },
  {
   "cell_type": "code",
   "execution_count": 119,
   "id": "eb217575",
   "metadata": {},
   "outputs": [],
   "source": [
    "company_table = company_table.sort_values(by='avg_salary')"
   ]
  },
  {
   "cell_type": "code",
   "execution_count": 122,
   "id": "714929a2",
   "metadata": {},
   "outputs": [
    {
     "data": {
      "text/html": [
       "<div>\n",
       "<style scoped>\n",
       "    .dataframe tbody tr th:only-of-type {\n",
       "        vertical-align: middle;\n",
       "    }\n",
       "\n",
       "    .dataframe tbody tr th {\n",
       "        vertical-align: top;\n",
       "    }\n",
       "\n",
       "    .dataframe thead th {\n",
       "        text-align: right;\n",
       "    }\n",
       "</style>\n",
       "<table border=\"1\" class=\"dataframe\">\n",
       "  <thead>\n",
       "    <tr style=\"text-align: right;\">\n",
       "      <th></th>\n",
       "      <th>avg_salary</th>\n",
       "    </tr>\n",
       "    <tr>\n",
       "      <th>company_size</th>\n",
       "      <th></th>\n",
       "    </tr>\n",
       "  </thead>\n",
       "  <tbody>\n",
       "    <tr>\n",
       "      <th>&gt; 10,000 employees</th>\n",
       "      <td>2499.500000</td>\n",
       "    </tr>\n",
       "    <tr>\n",
       "      <th>1000-9,999 employees</th>\n",
       "      <td>5249.500000</td>\n",
       "    </tr>\n",
       "    <tr>\n",
       "      <th>250-999 employees</th>\n",
       "      <td>15416.166667</td>\n",
       "    </tr>\n",
       "    <tr>\n",
       "      <th>50-249 employees</th>\n",
       "      <td>78856.714286</td>\n",
       "    </tr>\n",
       "  </tbody>\n",
       "</table>\n",
       "</div>"
      ],
      "text/plain": [
       "                        avg_salary\n",
       "company_size                      \n",
       "> 10,000 employees     2499.500000\n",
       "1000-9,999 employees   5249.500000\n",
       "250-999 employees     15416.166667\n",
       "50-249 employees      78856.714286"
      ]
     },
     "execution_count": 122,
     "metadata": {},
     "output_type": "execute_result"
    }
   ],
   "source": [
    "company_table\n",
    "#contains the average salary for different company sizes\n",
    "#data is flawed for similar reasons as 'job_table'"
   ]
  },
  {
   "cell_type": "code",
   "execution_count": 132,
   "id": "1e6f0afa",
   "metadata": {},
   "outputs": [],
   "source": [
    "#create table to see to compare gender with salary\n",
    "gender_table = pd.DataFrame().assign(gender = df['Gender'], salary = df['Compensation'])"
   ]
  },
  {
   "cell_type": "code",
   "execution_count": 139,
   "id": "60400f6e",
   "metadata": {},
   "outputs": [
    {
     "name": "stderr",
     "output_type": "stream",
     "text": [
      "/var/folders/r3/mc3pdgtj3rn3d0pd71phd8540000gr/T/ipykernel_69458/1620836318.py:6: SettingWithCopyWarning: \n",
      "A value is trying to be set on a copy of a slice from a DataFrame.\n",
      "Try using .loc[row_indexer,col_indexer] = value instead\n",
      "\n",
      "See the caveats in the documentation: https://pandas.pydata.org/pandas-docs/stable/user_guide/indexing.html#returning-a-view-versus-a-copy\n",
      "  temp1['min_salary'] = temp1['salary'].apply(lambda x: x.split()[0])\n",
      "/var/folders/r3/mc3pdgtj3rn3d0pd71phd8540000gr/T/ipykernel_69458/1620836318.py:7: SettingWithCopyWarning: \n",
      "A value is trying to be set on a copy of a slice from a DataFrame.\n",
      "Try using .loc[row_indexer,col_indexer] = value instead\n",
      "\n",
      "See the caveats in the documentation: https://pandas.pydata.org/pandas-docs/stable/user_guide/indexing.html#returning-a-view-versus-a-copy\n",
      "  temp1['min_salary'] = temp1['min_salary'].apply(lambda x: x.replace(\",\",\"\"))\n",
      "/var/folders/r3/mc3pdgtj3rn3d0pd71phd8540000gr/T/ipykernel_69458/1620836318.py:8: SettingWithCopyWarning: \n",
      "A value is trying to be set on a copy of a slice from a DataFrame.\n",
      "Try using .loc[row_indexer,col_indexer] = value instead\n",
      "\n",
      "See the caveats in the documentation: https://pandas.pydata.org/pandas-docs/stable/user_guide/indexing.html#returning-a-view-versus-a-copy\n",
      "  temp1['min_salary'] = temp1['min_salary'].apply(lambda x: x.replace(\"$\",\"\") if \"$\" in x else x)\n",
      "/var/folders/r3/mc3pdgtj3rn3d0pd71phd8540000gr/T/ipykernel_69458/1620836318.py:9: SettingWithCopyWarning: \n",
      "A value is trying to be set on a copy of a slice from a DataFrame.\n",
      "Try using .loc[row_indexer,col_indexer] = value instead\n",
      "\n",
      "See the caveats in the documentation: https://pandas.pydata.org/pandas-docs/stable/user_guide/indexing.html#returning-a-view-versus-a-copy\n",
      "  temp1['min_salary'] = temp1['min_salary'].apply(lambda x: int(x))\n",
      "/var/folders/r3/mc3pdgtj3rn3d0pd71phd8540000gr/T/ipykernel_69458/1620836318.py:10: SettingWithCopyWarning: \n",
      "A value is trying to be set on a copy of a slice from a DataFrame.\n",
      "Try using .loc[row_indexer,col_indexer] = value instead\n",
      "\n",
      "See the caveats in the documentation: https://pandas.pydata.org/pandas-docs/stable/user_guide/indexing.html#returning-a-view-versus-a-copy\n",
      "  temp1['max_salary'] = temp1['salary'].apply(lambda x: x.split()[2])\n",
      "/var/folders/r3/mc3pdgtj3rn3d0pd71phd8540000gr/T/ipykernel_69458/1620836318.py:11: SettingWithCopyWarning: \n",
      "A value is trying to be set on a copy of a slice from a DataFrame.\n",
      "Try using .loc[row_indexer,col_indexer] = value instead\n",
      "\n",
      "See the caveats in the documentation: https://pandas.pydata.org/pandas-docs/stable/user_guide/indexing.html#returning-a-view-versus-a-copy\n",
      "  temp1['max_salary'] = temp1['max_salary'].apply(lambda x: x.replace(\",\",\"\"))\n",
      "/var/folders/r3/mc3pdgtj3rn3d0pd71phd8540000gr/T/ipykernel_69458/1620836318.py:12: SettingWithCopyWarning: \n",
      "A value is trying to be set on a copy of a slice from a DataFrame.\n",
      "Try using .loc[row_indexer,col_indexer] = value instead\n",
      "\n",
      "See the caveats in the documentation: https://pandas.pydata.org/pandas-docs/stable/user_guide/indexing.html#returning-a-view-versus-a-copy\n",
      "  temp1['max_salary'] = temp1['max_salary'].apply(lambda x: int(x))\n",
      "/var/folders/r3/mc3pdgtj3rn3d0pd71phd8540000gr/T/ipykernel_69458/1620836318.py:13: SettingWithCopyWarning: \n",
      "A value is trying to be set on a copy of a slice from a DataFrame.\n",
      "Try using .loc[row_indexer,col_indexer] = value instead\n",
      "\n",
      "See the caveats in the documentation: https://pandas.pydata.org/pandas-docs/stable/user_guide/indexing.html#returning-a-view-versus-a-copy\n",
      "  temp1['avg_salary'] = (temp1.min_salary + temp1.max_salary)/2\n",
      "/var/folders/r3/mc3pdgtj3rn3d0pd71phd8540000gr/T/ipykernel_69458/1620836318.py:15: SettingWithCopyWarning: \n",
      "A value is trying to be set on a copy of a slice from a DataFrame.\n",
      "Try using .loc[row_indexer,col_indexer] = value instead\n",
      "\n",
      "See the caveats in the documentation: https://pandas.pydata.org/pandas-docs/stable/user_guide/indexing.html#returning-a-view-versus-a-copy\n",
      "  temp2['salary'] = temp2.salary.apply(lambda y: y.replace(\"> $\",\"\"))\n",
      "/var/folders/r3/mc3pdgtj3rn3d0pd71phd8540000gr/T/ipykernel_69458/1620836318.py:16: SettingWithCopyWarning: \n",
      "A value is trying to be set on a copy of a slice from a DataFrame.\n",
      "Try using .loc[row_indexer,col_indexer] = value instead\n",
      "\n",
      "See the caveats in the documentation: https://pandas.pydata.org/pandas-docs/stable/user_guide/indexing.html#returning-a-view-versus-a-copy\n",
      "  temp2['min_salary'] = temp2.salary.apply(lambda y: y.replace(\",\",\"\"))\n",
      "/var/folders/r3/mc3pdgtj3rn3d0pd71phd8540000gr/T/ipykernel_69458/1620836318.py:17: SettingWithCopyWarning: \n",
      "A value is trying to be set on a copy of a slice from a DataFrame.\n",
      "Try using .loc[row_indexer,col_indexer] = value instead\n",
      "\n",
      "See the caveats in the documentation: https://pandas.pydata.org/pandas-docs/stable/user_guide/indexing.html#returning-a-view-versus-a-copy\n",
      "  temp2['min_salary'] = temp2.min_salary.apply(lambda y: int(y))\n",
      "/var/folders/r3/mc3pdgtj3rn3d0pd71phd8540000gr/T/ipykernel_69458/1620836318.py:18: SettingWithCopyWarning: \n",
      "A value is trying to be set on a copy of a slice from a DataFrame.\n",
      "Try using .loc[row_indexer,col_indexer] = value instead\n",
      "\n",
      "See the caveats in the documentation: https://pandas.pydata.org/pandas-docs/stable/user_guide/indexing.html#returning-a-view-versus-a-copy\n",
      "  temp2['max_salary'] = temp2['min_salary']\n",
      "/var/folders/r3/mc3pdgtj3rn3d0pd71phd8540000gr/T/ipykernel_69458/1620836318.py:19: SettingWithCopyWarning: \n",
      "A value is trying to be set on a copy of a slice from a DataFrame.\n",
      "Try using .loc[row_indexer,col_indexer] = value instead\n",
      "\n",
      "See the caveats in the documentation: https://pandas.pydata.org/pandas-docs/stable/user_guide/indexing.html#returning-a-view-versus-a-copy\n",
      "  temp2[\"avg_salary\"] = temp2['min_salary']\n"
     ]
    }
   ],
   "source": [
    "#start cleaning up the data \n",
    "temp1 = gender_table[gender_table.salary.str.contains('to')]\n",
    "temp2 = gender_table[gender_table.salary.str.contains('>')]\n",
    "\n",
    "#clean up the salary with range\n",
    "temp1['min_salary'] = temp1['salary'].apply(lambda x: x.split()[0])\n",
    "temp1['min_salary'] = temp1['min_salary'].apply(lambda x: x.replace(\",\",\"\"))\n",
    "temp1['min_salary'] = temp1['min_salary'].apply(lambda x: x.replace(\"$\",\"\") if \"$\" in x else x)\n",
    "temp1['min_salary'] = temp1['min_salary'].apply(lambda x: int(x))\n",
    "temp1['max_salary'] = temp1['salary'].apply(lambda x: x.split()[2])\n",
    "temp1['max_salary'] = temp1['max_salary'].apply(lambda x: x.replace(\",\",\"\"))\n",
    "temp1['max_salary'] = temp1['max_salary'].apply(lambda x: int(x))\n",
    "temp1['avg_salary'] = (temp1.min_salary + temp1.max_salary)/2\n",
    "\n",
    "temp2['salary'] = temp2.salary.apply(lambda y: y.replace(\"> $\",\"\"))\n",
    "temp2['min_salary'] = temp2.salary.apply(lambda y: y.replace(\",\",\"\"))\n",
    "temp2['min_salary'] = temp2.min_salary.apply(lambda y: int(y))\n",
    "temp2['max_salary'] = temp2['min_salary']\n",
    "temp2[\"avg_salary\"] = temp2['min_salary']"
   ]
  },
  {
   "cell_type": "code",
   "execution_count": 142,
   "id": "5c0d4db9",
   "metadata": {},
   "outputs": [],
   "source": [
    "temp = temp1.append(temp2,ignore_index = True)"
   ]
  },
  {
   "cell_type": "code",
   "execution_count": 144,
   "id": "45afd680",
   "metadata": {},
   "outputs": [],
   "source": [
    "gender_table = temp.groupby('gender').mean()"
   ]
  },
  {
   "cell_type": "code",
   "execution_count": 150,
   "id": "bc70444b",
   "metadata": {},
   "outputs": [],
   "source": [
    "gender_table = gender_table.sort_values(by='avg_salary')"
   ]
  },
  {
   "cell_type": "code",
   "execution_count": 151,
   "id": "90486be5",
   "metadata": {},
   "outputs": [
    {
     "data": {
      "text/html": [
       "<div>\n",
       "<style scoped>\n",
       "    .dataframe tbody tr th:only-of-type {\n",
       "        vertical-align: middle;\n",
       "    }\n",
       "\n",
       "    .dataframe tbody tr th {\n",
       "        vertical-align: top;\n",
       "    }\n",
       "\n",
       "    .dataframe thead th {\n",
       "        text-align: right;\n",
       "    }\n",
       "</style>\n",
       "<table border=\"1\" class=\"dataframe\">\n",
       "  <thead>\n",
       "    <tr style=\"text-align: right;\">\n",
       "      <th></th>\n",
       "      <th>avg_salary</th>\n",
       "    </tr>\n",
       "    <tr>\n",
       "      <th>gender</th>\n",
       "      <th></th>\n",
       "    </tr>\n",
       "  </thead>\n",
       "  <tbody>\n",
       "    <tr>\n",
       "      <th>Female</th>\n",
       "      <td>95032.077465</td>\n",
       "    </tr>\n",
       "    <tr>\n",
       "      <th>Not Mentioned</th>\n",
       "      <td>110925.985294</td>\n",
       "    </tr>\n",
       "    <tr>\n",
       "      <th>Male</th>\n",
       "      <td>128292.373826</td>\n",
       "    </tr>\n",
       "    <tr>\n",
       "      <th>Self Describe</th>\n",
       "      <td>161249.571429</td>\n",
       "    </tr>\n",
       "  </tbody>\n",
       "</table>\n",
       "</div>"
      ],
      "text/plain": [
       "                  avg_salary\n",
       "gender                      \n",
       "Female          95032.077465\n",
       "Not Mentioned  110925.985294\n",
       "Male           128292.373826\n",
       "Self Describe  161249.571429"
      ]
     },
     "execution_count": 151,
     "metadata": {},
     "output_type": "execute_result"
    }
   ],
   "source": [
    "gender_table"
   ]
  },
  {
   "cell_type": "code",
   "execution_count": 152,
   "id": "b3153233",
   "metadata": {},
   "outputs": [
    {
     "data": {
      "text/html": [
       "<div>\n",
       "<style scoped>\n",
       "    .dataframe tbody tr th:only-of-type {\n",
       "        vertical-align: middle;\n",
       "    }\n",
       "\n",
       "    .dataframe tbody tr th {\n",
       "        vertical-align: top;\n",
       "    }\n",
       "\n",
       "    .dataframe thead th {\n",
       "        text-align: right;\n",
       "    }\n",
       "</style>\n",
       "<table border=\"1\" class=\"dataframe\">\n",
       "  <thead>\n",
       "    <tr style=\"text-align: right;\">\n",
       "      <th></th>\n",
       "      <th>avg_salary</th>\n",
       "    </tr>\n",
       "  </thead>\n",
       "  <tbody>\n",
       "    <tr>\n",
       "      <th>count</th>\n",
       "      <td>4.000000</td>\n",
       "    </tr>\n",
       "    <tr>\n",
       "      <th>mean</th>\n",
       "      <td>123875.002003</td>\n",
       "    </tr>\n",
       "    <tr>\n",
       "      <th>std</th>\n",
       "      <td>28378.177903</td>\n",
       "    </tr>\n",
       "    <tr>\n",
       "      <th>min</th>\n",
       "      <td>95032.077465</td>\n",
       "    </tr>\n",
       "    <tr>\n",
       "      <th>25%</th>\n",
       "      <td>106952.508337</td>\n",
       "    </tr>\n",
       "    <tr>\n",
       "      <th>50%</th>\n",
       "      <td>119609.179560</td>\n",
       "    </tr>\n",
       "    <tr>\n",
       "      <th>75%</th>\n",
       "      <td>136531.673227</td>\n",
       "    </tr>\n",
       "    <tr>\n",
       "      <th>max</th>\n",
       "      <td>161249.571429</td>\n",
       "    </tr>\n",
       "  </tbody>\n",
       "</table>\n",
       "</div>"
      ],
      "text/plain": [
       "          avg_salary\n",
       "count       4.000000\n",
       "mean   123875.002003\n",
       "std     28378.177903\n",
       "min     95032.077465\n",
       "25%    106952.508337\n",
       "50%    119609.179560\n",
       "75%    136531.673227\n",
       "max    161249.571429"
      ]
     },
     "execution_count": 152,
     "metadata": {},
     "output_type": "execute_result"
    }
   ],
   "source": [
    "gender_table.describe()"
   ]
  },
  {
   "cell_type": "code",
   "execution_count": 174,
   "id": "4d230b71",
   "metadata": {},
   "outputs": [
    {
     "name": "stdout",
     "output_type": "stream",
     "text": [
      "                            avg_salary\n",
      "Job                                   \n",
      "Software Engineer          1499.500000\n",
      "Product/Project Manager   11166.166667\n",
      "Data Scientist            11249.500000\n",
      "Statistician              14499.500000\n",
      "Data Engineer             17124.500000\n",
      "Research Scientist        81606.714286\n",
      "Business Analyst         134999.666667\n",
      "Data Analyst             204374.750000\n",
      "                        avg_salary\n",
      "company_size                      \n",
      "> 10,000 employees     2499.500000\n",
      "1000-9,999 employees   5249.500000\n",
      "250-999 employees     15416.166667\n",
      "50-249 employees      78856.714286\n",
      "                  avg_salary\n",
      "gender                      \n",
      "Female          95032.077465\n",
      "Not Mentioned  110925.985294\n",
      "Male           128292.373826\n",
      "Self Describe  161249.571429\n"
     ]
    }
   ],
   "source": [
    "#Tables that will be used for a bit of exploratory data analysis\n",
    "print(job_table)\n",
    "print(company_table)\n",
    "print(gender_table)"
   ]
  },
  {
   "cell_type": "code",
   "execution_count": 167,
   "id": "06f83571",
   "metadata": {},
   "outputs": [
    {
     "data": {
      "image/png": "[encoded data removed]",
      "text/plain": [
       "<Figure size 432x288 with 1 Axes>"
      ]
     },
     "metadata": {
      "needs_background": "light"
     },
     "output_type": "display_data"
    }
   ],
   "source": [
    "# Bar chart that shows the average salary for different job positions\n",
    "job_table.plot(kind='barh',y='avg_salary');"
   ]
  },
  {
   "cell_type": "code",
   "execution_count": 170,
   "id": "ce861cb2",
   "metadata": {},
   "outputs": [
    {
     "data": {
      "image/png": "[encoded data removed]",
      "text/plain": [
       "<Figure size 432x288 with 1 Axes>"
      ]
     },
     "metadata": {
      "needs_background": "light"
     },
     "output_type": "display_data"
    }
   ],
   "source": [
    "#Bar chart to show the average salary for different company sizes \n",
    "company_table.plot(kind='barh',y='avg_salary');"
   ]
  },
  {
   "cell_type": "code",
   "execution_count": 172,
   "id": "3de6dc16",
   "metadata": {},
   "outputs": [
    {
     "data": {
      "image/png": "[encoded data removed]",
      "text/plain": [
       "<Figure size 432x288 with 1 Axes>"
      ]
     },
     "metadata": {
      "needs_background": "light"
     },
     "output_type": "display_data"
    }
   ],
   "source": [
    "#Bar chart to see the pattern of salary earned with gender\n",
    "gender_table.plot(kind='barh',y='avg_salary');"
   ]
  },
  {
   "cell_type": "code",
   "execution_count": 189,
   "id": "021c9da1",
   "metadata": {},
   "outputs": [
    {
     "name": "stderr",
     "output_type": "stream",
     "text": [
      "/var/folders/r3/mc3pdgtj3rn3d0pd71phd8540000gr/T/ipykernel_69458/3091740821.py:6: SettingWithCopyWarning: \n",
      "A value is trying to be set on a copy of a slice from a DataFrame.\n",
      "Try using .loc[row_indexer,col_indexer] = value instead\n",
      "\n",
      "See the caveats in the documentation: https://pandas.pydata.org/pandas-docs/stable/user_guide/indexing.html#returning-a-view-versus-a-copy\n",
      "  temp1['min_salary'] = temp1['salary'].apply(lambda x: x.split()[0])\n",
      "/var/folders/r3/mc3pdgtj3rn3d0pd71phd8540000gr/T/ipykernel_69458/3091740821.py:7: SettingWithCopyWarning: \n",
      "A value is trying to be set on a copy of a slice from a DataFrame.\n",
      "Try using .loc[row_indexer,col_indexer] = value instead\n",
      "\n",
      "See the caveats in the documentation: https://pandas.pydata.org/pandas-docs/stable/user_guide/indexing.html#returning-a-view-versus-a-copy\n",
      "  temp1['min_salary'] = temp1['min_salary'].apply(lambda x: x.replace(\",\",\"\"))\n",
      "/var/folders/r3/mc3pdgtj3rn3d0pd71phd8540000gr/T/ipykernel_69458/3091740821.py:8: SettingWithCopyWarning: \n",
      "A value is trying to be set on a copy of a slice from a DataFrame.\n",
      "Try using .loc[row_indexer,col_indexer] = value instead\n",
      "\n",
      "See the caveats in the documentation: https://pandas.pydata.org/pandas-docs/stable/user_guide/indexing.html#returning-a-view-versus-a-copy\n",
      "  temp1['min_salary'] = temp1['min_salary'].apply(lambda x: x.replace(\"$\",\"\") if \"$\" in x else x)\n",
      "/var/folders/r3/mc3pdgtj3rn3d0pd71phd8540000gr/T/ipykernel_69458/3091740821.py:9: SettingWithCopyWarning: \n",
      "A value is trying to be set on a copy of a slice from a DataFrame.\n",
      "Try using .loc[row_indexer,col_indexer] = value instead\n",
      "\n",
      "See the caveats in the documentation: https://pandas.pydata.org/pandas-docs/stable/user_guide/indexing.html#returning-a-view-versus-a-copy\n",
      "  temp1['min_salary'] = temp1['min_salary'].apply(lambda x: int(x))\n",
      "/var/folders/r3/mc3pdgtj3rn3d0pd71phd8540000gr/T/ipykernel_69458/3091740821.py:10: SettingWithCopyWarning: \n",
      "A value is trying to be set on a copy of a slice from a DataFrame.\n",
      "Try using .loc[row_indexer,col_indexer] = value instead\n",
      "\n",
      "See the caveats in the documentation: https://pandas.pydata.org/pandas-docs/stable/user_guide/indexing.html#returning-a-view-versus-a-copy\n",
      "  temp1['max_salary'] = temp1['salary'].apply(lambda x: x.split()[2])\n",
      "/var/folders/r3/mc3pdgtj3rn3d0pd71phd8540000gr/T/ipykernel_69458/3091740821.py:11: SettingWithCopyWarning: \n",
      "A value is trying to be set on a copy of a slice from a DataFrame.\n",
      "Try using .loc[row_indexer,col_indexer] = value instead\n",
      "\n",
      "See the caveats in the documentation: https://pandas.pydata.org/pandas-docs/stable/user_guide/indexing.html#returning-a-view-versus-a-copy\n",
      "  temp1['max_salary'] = temp1['max_salary'].apply(lambda x: x.replace(\",\",\"\"))\n",
      "/var/folders/r3/mc3pdgtj3rn3d0pd71phd8540000gr/T/ipykernel_69458/3091740821.py:12: SettingWithCopyWarning: \n",
      "A value is trying to be set on a copy of a slice from a DataFrame.\n",
      "Try using .loc[row_indexer,col_indexer] = value instead\n",
      "\n",
      "See the caveats in the documentation: https://pandas.pydata.org/pandas-docs/stable/user_guide/indexing.html#returning-a-view-versus-a-copy\n",
      "  temp1['max_salary'] = temp1['max_salary'].apply(lambda x: int(x))\n",
      "/var/folders/r3/mc3pdgtj3rn3d0pd71phd8540000gr/T/ipykernel_69458/3091740821.py:13: SettingWithCopyWarning: \n",
      "A value is trying to be set on a copy of a slice from a DataFrame.\n",
      "Try using .loc[row_indexer,col_indexer] = value instead\n",
      "\n",
      "See the caveats in the documentation: https://pandas.pydata.org/pandas-docs/stable/user_guide/indexing.html#returning-a-view-versus-a-copy\n",
      "  temp1['avg_salary'] = (temp1.min_salary + temp1.max_salary)/2\n",
      "/var/folders/r3/mc3pdgtj3rn3d0pd71phd8540000gr/T/ipykernel_69458/3091740821.py:15: SettingWithCopyWarning: \n",
      "A value is trying to be set on a copy of a slice from a DataFrame.\n",
      "Try using .loc[row_indexer,col_indexer] = value instead\n",
      "\n",
      "See the caveats in the documentation: https://pandas.pydata.org/pandas-docs/stable/user_guide/indexing.html#returning-a-view-versus-a-copy\n",
      "  temp2['salary'] = temp2.salary.apply(lambda y: y.replace(\"> $\",\"\"))\n",
      "/var/folders/r3/mc3pdgtj3rn3d0pd71phd8540000gr/T/ipykernel_69458/3091740821.py:16: SettingWithCopyWarning: \n",
      "A value is trying to be set on a copy of a slice from a DataFrame.\n",
      "Try using .loc[row_indexer,col_indexer] = value instead\n",
      "\n",
      "See the caveats in the documentation: https://pandas.pydata.org/pandas-docs/stable/user_guide/indexing.html#returning-a-view-versus-a-copy\n",
      "  temp2['min_salary'] = temp2.salary.apply(lambda y: y.replace(\",\",\"\"))\n",
      "/var/folders/r3/mc3pdgtj3rn3d0pd71phd8540000gr/T/ipykernel_69458/3091740821.py:17: SettingWithCopyWarning: \n",
      "A value is trying to be set on a copy of a slice from a DataFrame.\n",
      "Try using .loc[row_indexer,col_indexer] = value instead\n",
      "\n",
      "See the caveats in the documentation: https://pandas.pydata.org/pandas-docs/stable/user_guide/indexing.html#returning-a-view-versus-a-copy\n",
      "  temp2['min_salary'] = temp2.min_salary.apply(lambda y: int(y))\n",
      "/var/folders/r3/mc3pdgtj3rn3d0pd71phd8540000gr/T/ipykernel_69458/3091740821.py:18: SettingWithCopyWarning: \n",
      "A value is trying to be set on a copy of a slice from a DataFrame.\n",
      "Try using .loc[row_indexer,col_indexer] = value instead\n",
      "\n",
      "See the caveats in the documentation: https://pandas.pydata.org/pandas-docs/stable/user_guide/indexing.html#returning-a-view-versus-a-copy\n",
      "  temp2['max_salary'] = temp2['min_salary']\n",
      "/var/folders/r3/mc3pdgtj3rn3d0pd71phd8540000gr/T/ipykernel_69458/3091740821.py:19: SettingWithCopyWarning: \n",
      "A value is trying to be set on a copy of a slice from a DataFrame.\n",
      "Try using .loc[row_indexer,col_indexer] = value instead\n",
      "\n",
      "See the caveats in the documentation: https://pandas.pydata.org/pandas-docs/stable/user_guide/indexing.html#returning-a-view-versus-a-copy\n",
      "  temp2[\"avg_salary\"] = temp2['min_salary']\n"
     ]
    }
   ],
   "source": [
    "df.rename(columns = {'Compensation':'salary'}, inplace = True)\n",
    "temp1 = df[df.salary.str.contains('to')]\n",
    "temp2 = df[df.salary.str.contains('>')]\n",
    "\n",
    "#clean up the salary with range\n",
    "temp1['min_salary'] = temp1['salary'].apply(lambda x: x.split()[0])\n",
    "temp1['min_salary'] = temp1['min_salary'].apply(lambda x: x.replace(\",\",\"\"))\n",
    "temp1['min_salary'] = temp1['min_salary'].apply(lambda x: x.replace(\"$\",\"\") if \"$\" in x else x)\n",
    "temp1['min_salary'] = temp1['min_salary'].apply(lambda x: int(x))\n",
    "temp1['max_salary'] = temp1['salary'].apply(lambda x: x.split()[2])\n",
    "temp1['max_salary'] = temp1['max_salary'].apply(lambda x: x.replace(\",\",\"\"))\n",
    "temp1['max_salary'] = temp1['max_salary'].apply(lambda x: int(x))\n",
    "temp1['avg_salary'] = (temp1.min_salary + temp1.max_salary)/2\n",
    "\n",
    "temp2['salary'] = temp2.salary.apply(lambda y: y.replace(\"> $\",\"\"))\n",
    "temp2['min_salary'] = temp2.salary.apply(lambda y: y.replace(\",\",\"\"))\n",
    "temp2['min_salary'] = temp2.min_salary.apply(lambda y: int(y))\n",
    "temp2['max_salary'] = temp2['min_salary']\n",
    "temp2[\"avg_salary\"] = temp2['min_salary']"
   ]
  },
  {
   "cell_type": "code",
   "execution_count": 193,
   "id": "f10577da",
   "metadata": {},
   "outputs": [],
   "source": [
    "temp1 = temp1.drop(columns = 'salary')\n",
    "temp2 = temp2.drop(columns = 'salary')"
   ]
  },
  {
   "cell_type": "code",
   "execution_count": 194,
   "id": "e9d7b7f0",
   "metadata": {},
   "outputs": [],
   "source": [
    "new_df = temp2.append(temp1,ignore_index=True)"
   ]
  },
  {
   "cell_type": "code",
   "execution_count": 195,
   "id": "cba9f70e",
   "metadata": {},
   "outputs": [
    {
     "data": {
      "text/html": [
       "<div>\n",
       "<style scoped>\n",
       "    .dataframe tbody tr th:only-of-type {\n",
       "        vertical-align: middle;\n",
       "    }\n",
       "\n",
       "    .dataframe tbody tr th {\n",
       "        vertical-align: top;\n",
       "    }\n",
       "\n",
       "    .dataframe thead th {\n",
       "        text-align: right;\n",
       "    }\n",
       "</style>\n",
       "<table border=\"1\" class=\"dataframe\">\n",
       "  <thead>\n",
       "    <tr style=\"text-align: right;\">\n",
       "      <th></th>\n",
       "      <th>Education</th>\n",
       "      <th>Title</th>\n",
       "      <th>Company_Size</th>\n",
       "      <th>Gender</th>\n",
       "      <th>min_salary</th>\n",
       "      <th>max_salary</th>\n",
       "      <th>avg_salary</th>\n",
       "    </tr>\n",
       "  </thead>\n",
       "  <tbody>\n",
       "    <tr>\n",
       "      <th>0</th>\n",
       "      <td>Doctoral degree</td>\n",
       "      <td>Data Scientist</td>\n",
       "      <td>&gt; 10,000 employees</td>\n",
       "      <td>Male</td>\n",
       "      <td>500000</td>\n",
       "      <td>500000</td>\n",
       "      <td>500000.0</td>\n",
       "    </tr>\n",
       "    <tr>\n",
       "      <th>1</th>\n",
       "      <td>Doctoral degree</td>\n",
       "      <td>Data Scientist</td>\n",
       "      <td>1000-9,999 employees</td>\n",
       "      <td>Male</td>\n",
       "      <td>500000</td>\n",
       "      <td>500000</td>\n",
       "      <td>500000.0</td>\n",
       "    </tr>\n",
       "    <tr>\n",
       "      <th>2</th>\n",
       "      <td>Doctoral degree</td>\n",
       "      <td>Data Scientist</td>\n",
       "      <td>0-49 employees</td>\n",
       "      <td>Male</td>\n",
       "      <td>500000</td>\n",
       "      <td>500000</td>\n",
       "      <td>500000.0</td>\n",
       "    </tr>\n",
       "    <tr>\n",
       "      <th>3</th>\n",
       "      <td>Doctoral degree</td>\n",
       "      <td>Product/Project Manager</td>\n",
       "      <td>&gt; 10,000 employees</td>\n",
       "      <td>Male</td>\n",
       "      <td>500000</td>\n",
       "      <td>500000</td>\n",
       "      <td>500000.0</td>\n",
       "    </tr>\n",
       "    <tr>\n",
       "      <th>4</th>\n",
       "      <td>Doctoral degree</td>\n",
       "      <td>Business Analyst</td>\n",
       "      <td>1000-9,999 employees</td>\n",
       "      <td>Male</td>\n",
       "      <td>500000</td>\n",
       "      <td>500000</td>\n",
       "      <td>500000.0</td>\n",
       "    </tr>\n",
       "    <tr>\n",
       "      <th>...</th>\n",
       "      <td>...</td>\n",
       "      <td>...</td>\n",
       "      <td>...</td>\n",
       "      <td>...</td>\n",
       "      <td>...</td>\n",
       "      <td>...</td>\n",
       "      <td>...</td>\n",
       "    </tr>\n",
       "    <tr>\n",
       "      <th>1172</th>\n",
       "      <td>Some college/university</td>\n",
       "      <td>Software Engineer</td>\n",
       "      <td>0-49 employees</td>\n",
       "      <td>Male</td>\n",
       "      <td>0</td>\n",
       "      <td>999</td>\n",
       "      <td>499.5</td>\n",
       "    </tr>\n",
       "    <tr>\n",
       "      <th>1173</th>\n",
       "      <td>Some college/university</td>\n",
       "      <td>Other</td>\n",
       "      <td>50-249 employees</td>\n",
       "      <td>Male</td>\n",
       "      <td>0</td>\n",
       "      <td>999</td>\n",
       "      <td>499.5</td>\n",
       "    </tr>\n",
       "    <tr>\n",
       "      <th>1174</th>\n",
       "      <td>Some college/university</td>\n",
       "      <td>Other</td>\n",
       "      <td>0-49 employees</td>\n",
       "      <td>Male</td>\n",
       "      <td>0</td>\n",
       "      <td>999</td>\n",
       "      <td>499.5</td>\n",
       "    </tr>\n",
       "    <tr>\n",
       "      <th>1175</th>\n",
       "      <td>I prefer not to answer</td>\n",
       "      <td>Other</td>\n",
       "      <td>0-49 employees</td>\n",
       "      <td>Male</td>\n",
       "      <td>0</td>\n",
       "      <td>999</td>\n",
       "      <td>499.5</td>\n",
       "    </tr>\n",
       "    <tr>\n",
       "      <th>1176</th>\n",
       "      <td>I prefer not to answer</td>\n",
       "      <td>Other</td>\n",
       "      <td>0-49 employees</td>\n",
       "      <td>Not Mentioned</td>\n",
       "      <td>0</td>\n",
       "      <td>999</td>\n",
       "      <td>499.5</td>\n",
       "    </tr>\n",
       "  </tbody>\n",
       "</table>\n",
       "<p>1177 rows × 7 columns</p>\n",
       "</div>"
      ],
      "text/plain": [
       "                    Education                    Title          Company_Size  \\\n",
       "0             Doctoral degree           Data Scientist    > 10,000 employees   \n",
       "1             Doctoral degree           Data Scientist  1000-9,999 employees   \n",
       "2             Doctoral degree           Data Scientist        0-49 employees   \n",
       "3             Doctoral degree  Product/Project Manager    > 10,000 employees   \n",
       "4             Doctoral degree         Business Analyst  1000-9,999 employees   \n",
       "...                       ...                      ...                   ...   \n",
       "1172  Some college/university        Software Engineer        0-49 employees   \n",
       "1173  Some college/university                    Other      50-249 employees   \n",
       "1174  Some college/university                    Other        0-49 employees   \n",
       "1175   I prefer not to answer                    Other        0-49 employees   \n",
       "1176   I prefer not to answer                    Other        0-49 employees   \n",
       "\n",
       "             Gender  min_salary  max_salary  avg_salary  \n",
       "0              Male      500000      500000    500000.0  \n",
       "1              Male      500000      500000    500000.0  \n",
       "2              Male      500000      500000    500000.0  \n",
       "3              Male      500000      500000    500000.0  \n",
       "4              Male      500000      500000    500000.0  \n",
       "...             ...         ...         ...         ...  \n",
       "1172           Male           0         999       499.5  \n",
       "1173           Male           0         999       499.5  \n",
       "1174           Male           0         999       499.5  \n",
       "1175           Male           0         999       499.5  \n",
       "1176  Not Mentioned           0         999       499.5  \n",
       "\n",
       "[1177 rows x 7 columns]"
      ]
     },
     "execution_count": 195,
     "metadata": {},
     "output_type": "execute_result"
    }
   ],
   "source": [
    "new_df"
   ]
  },
  {
   "cell_type": "code",
   "execution_count": 196,
   "id": "41dfcef7",
   "metadata": {},
   "outputs": [],
   "source": [
    "new_df.to_csv('cleaned_data.csv', index=False)\n"
   ]
  },
  {
   "cell_type": "code",
   "execution_count": null,
   "id": "a694dbf5",
   "metadata": {},
   "outputs": [],
   "source": []
  }
 ],
 "metadata": {
  "kernelspec": {
   "display_name": "Python 3 (ipykernel)",
   "language": "python",
   "name": "python3"
  },
  "language_info": {
   "codemirror_mode": {
    "name": "ipython",
    "version": 3
   },
   "file_extension": ".py",
   "mimetype": "text/x-python",
   "name": "python",
   "nbconvert_exporter": "python",
   "pygments_lexer": "ipython3",
   "version": "3.9.7"
  }
 },
 "nbformat": 4,
 "nbformat_minor": 5
}
